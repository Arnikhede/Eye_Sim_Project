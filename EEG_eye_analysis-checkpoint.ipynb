{
 "cells": [
  {
   "cell_type": "markdown",
   "id": "bca28cee-c5c2-4418-8917-a12810bf6ec7",
   "metadata": {},
   "source": [
    "##Import all the required libraries and packages that are going to be used in the analysis##"
   ]
  },
  {
   "cell_type": "code",
   "execution_count": 12,
   "id": "29ef88de-768e-47e3-aae1-28063c3f6b5e",
   "metadata": {},
   "outputs": [],
   "source": [
    "import pandas as pd\n",
    "import numpy as np\n",
    "import matplotlib.pyplot as plt"
   ]
  },
  {
   "cell_type": "markdown",
   "id": "2fb915f4-669f-4e9c-8956-054deeff4baa",
   "metadata": {},
   "source": [
    "#import the required EEG data set for analysis"
   ]
  },
  {
   "cell_type": "code",
   "execution_count": 13,
   "id": "55f8e3ca-0d09-4fce-9ec5-df4b684477c6",
   "metadata": {},
   "outputs": [],
   "source": [
    "data=pd.read_csv(\"EEG_Eye_State_Classification.csv\")\n",
    "x=data.iloc[:,:-1]\n",
    "y=data.iloc[:,-1]"
   ]
  },
  {
   "cell_type": "code",
   "execution_count": 14,
   "id": "d5eef410-f1f9-4b3a-aeee-71b7b14e907f",
   "metadata": {},
   "outputs": [],
   "source": [
    "#split the data into required sets of training and testing "
   ]
  },
  {
   "cell_type": "code",
   "execution_count": 15,
   "id": "e0240fab-d525-4088-ae4a-86ed7bc81dbb",
   "metadata": {},
   "outputs": [
    {
     "ename": "ModuleNotFoundError",
     "evalue": "No module named 'sklearn'",
     "output_type": "error",
     "traceback": [
      "\u001b[1;31m---------------------------------------------------------------------------\u001b[0m",
      "\u001b[1;31mModuleNotFoundError\u001b[0m                       Traceback (most recent call last)",
      "Cell \u001b[1;32mIn[15], line 1\u001b[0m\n\u001b[1;32m----> 1\u001b[0m \u001b[38;5;28;01mfrom\u001b[39;00m \u001b[38;5;21;01msklearn\u001b[39;00m\u001b[38;5;21;01m.\u001b[39;00m\u001b[38;5;21;01mmodel_selection\u001b[39;00m \u001b[38;5;28;01mimport\u001b[39;00m train_test_split\n\u001b[0;32m      2\u001b[0m x_train,x_test,y_train,y_test\u001b[38;5;241m=\u001b[39mtrain_test_split(x,y,test_size\u001b[38;5;241m=\u001b[39m\u001b[38;5;241m0.30\u001b[39m,random_state\u001b[38;5;241m=\u001b[39m\u001b[38;5;241m42\u001b[39m)\n",
      "\u001b[1;31mModuleNotFoundError\u001b[0m: No module named 'sklearn'"
     ]
    }
   ],
   "source": [
    "from sklearn.model_selection import train_test_split\n",
    "x_train,x_test,y_train,y_test=train_test_split(x,y,test_size=0.30,random_state=42)"
   ]
  },
  {
   "cell_type": "code",
   "execution_count": null,
   "id": "f871b5ac-4985-4ac1-9986-5321887babd0",
   "metadata": {},
   "outputs": [],
   "source": [
    "#train the model"
   ]
  },
  {
   "cell_type": "code",
   "execution_count": null,
   "id": "57b90377-253e-4ece-859a-0f037fc80f8c",
   "metadata": {},
   "outputs": [],
   "source": [
    "from sklearn.linear_model import logistic_regression\n",
    "clf=logistic_regression(random_state=42)\n",
    "clf.fit(x_train,y_train)"
   ]
  },
  {
   "cell_type": "code",
   "execution_count": null,
   "id": "c4b08076-1976-4ec2-9eb5-ff1eaf58ff7e",
   "metadata": {},
   "outputs": [],
   "source": [
    "#evaluate the trained model"
   ]
  },
  {
   "cell_type": "code",
   "execution_count": null,
   "id": "19d9a71a-a259-4da0-8bcb-9a8017141b06",
   "metadata": {},
   "outputs": [],
   "source": [
    "from sklear.metrics import confusion_matrix,accuracy_score\n",
    "y_pred=clf.predict(x_test)\n",
    "cm=confusion_matrix(y_test,y_pred)\n",
    "print(cm)\n",
    "accuracy=accuracy_score(y_test,y_pred)\n",
    "print(accuracy)"
   ]
  }
 ],
 "metadata": {
  "kernelspec": {
   "display_name": "Python 3 (ipykernel)",
   "language": "python",
   "name": "python3"
  },
  "language_info": {
   "codemirror_mode": {
    "name": "ipython",
    "version": 3
   },
   "file_extension": ".py",
   "mimetype": "text/x-python",
   "name": "python",
   "nbconvert_exporter": "python",
   "pygments_lexer": "ipython3",
   "version": "3.11.4"
  }
 },
 "nbformat": 4,
 "nbformat_minor": 5
}
